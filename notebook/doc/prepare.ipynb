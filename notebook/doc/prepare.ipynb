{
 "cells": [
  {
   "cell_type": "code",
   "execution_count": 8,
   "metadata": {},
   "outputs": [],
   "source": [
    "\n",
    "\n",
    "import cv2\n",
    "import os"
   ]
  },
  {
   "cell_type": "code",
   "execution_count": 9,
   "metadata": {},
   "outputs": [],
   "source": [
    "from FaceLandmark import *\n",
    "\n",
    "import cv2\n",
    "from PoseEstimation import *\n",
    "from Swapping import *\n",
    "import numpy as np"
   ]
  },
  {
   "cell_type": "code",
   "execution_count": 10,
   "metadata": {},
   "outputs": [
    {
     "name": "stderr",
     "output_type": "stream",
     "text": [
      "/opt/homebrew/lib/python3.11/site-packages/sklearn/base.py:348: InconsistentVersionWarning: Trying to unpickle estimator SVR from version 0.24.2 when using version 1.3.1. This might lead to breaking code or invalid results. Use at your own risk. For more info please refer to:\n",
      "https://scikit-learn.org/stable/model_persistence.html#security-maintainability-limitations\n",
      "  warnings.warn(\n",
      "/opt/homebrew/lib/python3.11/site-packages/sklearn/base.py:348: InconsistentVersionWarning: Trying to unpickle estimator MultiOutputRegressor from version 0.24.2 when using version 1.3.1. This might lead to breaking code or invalid results. Use at your own risk. For more info please refer to:\n",
      "https://scikit-learn.org/stable/model_persistence.html#security-maintainability-limitations\n",
      "  warnings.warn(\n"
     ]
    }
   ],
   "source": [
    "pose = PoseEstimation()\n",
    "swapping  =  MakeFilter()\n",
    "landmark = FaceLandmark()\n",
    "landmark1 = FaceLandmark()\n",
    "\n",
    "\n",
    "# plt.imshow(image2)\n"
   ]
  },
  {
   "cell_type": "code",
   "execution_count": 11,
   "metadata": {},
   "outputs": [],
   "source": [
    "lists = [\n",
    "        \"l1\",\n",
    "        \"l2\",\n",
    "        \"l3\",\n",
    "        \"l4\",\n",
    "        \"l5\",\n",
    "        \"l6\",\n",
    "        \"l7\",\n",
    "        \"r1\",\n",
    "        \"r2\",\n",
    "        \"r3\",\n",
    "        \"r4\",\n",
    "        \"r5\",\n",
    "        \"r6\",\n",
    "        \"r7\",\n",
    "        \"n\",\n",
    "    ]\n",
    "all_means = []\n",
    "for i in lists:\n",
    "        save_data_dir = \"../../result/mean_1/mean_{}.npy\".format(i)\n",
    "        all_means.append(np.array(np.load(save_data_dir)))"
   ]
  },
  {
   "cell_type": "code",
   "execution_count": 12,
   "metadata": {},
   "outputs": [],
   "source": [
    "from heic2png import HEIC2PNG\n",
    "\n",
    "\n",
    "\n",
    "count=0\n",
    "for i, img_path in enumerate(sorted(os.listdir(\"..//..//data/doc\"))):\n",
    "        if not '.HEIC' in img_path:\n",
    "            continue\n",
    "        individual_img_path = os.path.join(\"..//..//data/doc\", img_path)\n",
    "        heic_img = HEIC2PNG(individual_img_path, quality=90)  # Specify the quality of the converted image\n",
    "        heic_img.save()  "
   ]
  },
  {
   "cell_type": "code",
   "execution_count": 16,
   "metadata": {},
   "outputs": [
    {
     "name": "stderr",
     "output_type": "stream",
     "text": [
      "/opt/homebrew/lib/python3.11/site-packages/sklearn/base.py:458: UserWarning: X has feature names, but SVR was fitted without feature names\n",
      "  warnings.warn(\n",
      "/opt/homebrew/lib/python3.11/site-packages/sklearn/base.py:458: UserWarning: X has feature names, but SVR was fitted without feature names\n",
      "  warnings.warn(\n",
      "/opt/homebrew/lib/python3.11/site-packages/sklearn/base.py:458: UserWarning: X has feature names, but SVR was fitted without feature names\n",
      "  warnings.warn(\n"
     ]
    },
    {
     "name": "stdout",
     "output_type": "stream",
     "text": [
      "IMG_0440.png 0.37672556468940277\n"
     ]
    },
    {
     "name": "stderr",
     "output_type": "stream",
     "text": [
      "/opt/homebrew/lib/python3.11/site-packages/sklearn/base.py:458: UserWarning: X has feature names, but SVR was fitted without feature names\n",
      "  warnings.warn(\n",
      "/opt/homebrew/lib/python3.11/site-packages/sklearn/base.py:458: UserWarning: X has feature names, but SVR was fitted without feature names\n",
      "  warnings.warn(\n",
      "/opt/homebrew/lib/python3.11/site-packages/sklearn/base.py:458: UserWarning: X has feature names, but SVR was fitted without feature names\n",
      "  warnings.warn(\n"
     ]
    },
    {
     "name": "stdout",
     "output_type": "stream",
     "text": [
      "IMG_0444.png -0.44293898537606063\n"
     ]
    },
    {
     "name": "stderr",
     "output_type": "stream",
     "text": [
      "/opt/homebrew/lib/python3.11/site-packages/sklearn/base.py:458: UserWarning: X has feature names, but SVR was fitted without feature names\n",
      "  warnings.warn(\n",
      "/opt/homebrew/lib/python3.11/site-packages/sklearn/base.py:458: UserWarning: X has feature names, but SVR was fitted without feature names\n",
      "  warnings.warn(\n",
      "/opt/homebrew/lib/python3.11/site-packages/sklearn/base.py:458: UserWarning: X has feature names, but SVR was fitted without feature names\n",
      "  warnings.warn(\n"
     ]
    },
    {
     "name": "stdout",
     "output_type": "stream",
     "text": [
      "IMG_0447.png -0.024303379694549015\n"
     ]
    },
    {
     "name": "stderr",
     "output_type": "stream",
     "text": [
      "/opt/homebrew/lib/python3.11/site-packages/sklearn/base.py:458: UserWarning: X has feature names, but SVR was fitted without feature names\n",
      "  warnings.warn(\n",
      "/opt/homebrew/lib/python3.11/site-packages/sklearn/base.py:458: UserWarning: X has feature names, but SVR was fitted without feature names\n",
      "  warnings.warn(\n",
      "/opt/homebrew/lib/python3.11/site-packages/sklearn/base.py:458: UserWarning: X has feature names, but SVR was fitted without feature names\n",
      "  warnings.warn(\n"
     ]
    },
    {
     "name": "stdout",
     "output_type": "stream",
     "text": [
      "IMG_0449.png -0.5267098843616664\n"
     ]
    }
   ],
   "source": [
    "\n",
    "for i, img_path in enumerate(sorted(os.listdir(\"..//..//data/doc\"))):\n",
    "        if not '.png' in img_path:\n",
    "            continue\n",
    "\n",
    "        individual_img_path = os.path.join(\"..//..//data/doc\", img_path)\n",
    "\n",
    "        img = cv2.imread(individual_img_path)\n",
    "        results = landmark.process(img)\n",
    "        face_found = bool(results.multi_face_landmarks)\n",
    "        if face_found:\n",
    "                    processed_image = landmark.process(img)\n",
    "                    # Толгойн чиглэлийг тооцох\n",
    "                    face_features = pose.extract_features(img, processed_image)\n",
    "                    normalized = pose.normalize(face_features)\n",
    "                    pitch_pred, yaw_pred, roll_pred = pose.model.predict(normalized).ravel()\n",
    "                    ind = pose.pose_calculate_y(yaw_pred)\n",
    "                    face_mean_image = cv2.cvtColor(all_means[ind], cv2.COLOR_BGR2RGB)\n",
    "                    print(img_path + \" \" + str(yaw_pred))\n",
    "                    # cv2.imwrite('./test/pose_{}'.format(img_path),face_mean_image)\n",
    "                    image1_shape = face_mean_image.shape\n",
    "                    image2_shape = (600, 800, 3)\n",
    "\n",
    "                    image1 = face_mean_image\n",
    "                    image2 = np.zeros(image2_shape, dtype=np.uint8)\n",
    "\n",
    "                    # Calculate the center coordinates for placing image1 onto image2\n",
    "                    center_x = (image2_shape[1] - image1_shape[1]) // 2\n",
    "                    center_y = (image2_shape[0] - image1_shape[0]) // 2\n",
    "\n",
    "                    # Place image1 onto image2 at the center\n",
    "                    image2[\n",
    "                        center_y : center_y + image1_shape[0],\n",
    "                        center_x : center_x + image1_shape[1],\n",
    "                        :,\n",
    "                    ] = face_mean_image\n",
    "                    processed_image_face = landmark1.process(image2)\n",
    "                    (\n",
    "                        a,\n",
    "                        b,\n",
    "                        c,\n",
    "                    ) = swapping.process(img, results, image2, processed_image_face)\n",
    "                    cv2.imwrite('..//..//data/doc/_{}'.format(img_path),a)\n",
    "                    cv2.imwrite('..//..//data/doc/n_{}'.format(img_path),face_mean_image)\n",
    "\n",
    "                "
   ]
  },
  {
   "cell_type": "code",
   "execution_count": null,
   "metadata": {},
   "outputs": [],
   "source": []
  }
 ],
 "metadata": {
  "kernelspec": {
   "display_name": "Python 3",
   "language": "python",
   "name": "python3"
  },
  "language_info": {
   "codemirror_mode": {
    "name": "ipython",
    "version": 3
   },
   "file_extension": ".py",
   "mimetype": "text/x-python",
   "name": "python",
   "nbconvert_exporter": "python",
   "pygments_lexer": "ipython3",
   "version": "3.11.5"
  }
 },
 "nbformat": 4,
 "nbformat_minor": 2
}
